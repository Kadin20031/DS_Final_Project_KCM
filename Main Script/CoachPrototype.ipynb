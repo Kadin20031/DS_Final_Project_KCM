{
 "cells": [
  {
   "cell_type": "markdown",
   "metadata": {},
   "source": [
    "### Imports"
   ]
  },
  {
   "cell_type": "code",
   "execution_count": 54,
   "metadata": {},
   "outputs": [],
   "source": [
    "# Stanadard libraries \n",
    "import pandas as pd \n",
    "import numpy as np \n",
    "import matplotlib.pyplot as plt \n",
    "import seaborn as sns\n",
    "\n",
    "# Functions from other scripts\n",
    "from DataCollectionScript import load_SQL_Data, get_puuid, get_match_hist, get_match_data_from_id, process_match_json, convert_df_ids\n",
    "from GradientBoostingModelScript import load_model, build_gb_preprocessor, remove_null, split_features\n",
    "\n",
    "# Machine Learning Imports\n",
    "from sklearn.compose import ColumnTransformer\n",
    "from sklearn.preprocessing import StandardScaler, OneHotEncoder\n",
    "\n",
    "\n",
    "# Loading ENV\n",
    "from dotenv import load_dotenv\n",
    "import os\n",
    "\n",
    "# Loading dotenv file for code\n",
    "load_dotenv()\n",
    "\n",
    "# Riot Games API Key\n",
    "API_Key = os.environ.get('riot_api_key')"
   ]
  },
  {
   "cell_type": "markdown",
   "metadata": {},
   "source": [
    "### Gathering Player Games"
   ]
  },
  {
   "cell_type": "code",
   "execution_count": 67,
   "metadata": {},
   "outputs": [
    {
     "name": "stdout",
     "output_type": "stream",
     "text": [
      "PUUID Function Call #11 - URL: https://americas.api.riotgames.com/riot/account/v1/accounts/by-riot-id/Krelekrele/NA1, Response Code: 200\n",
      "Match ID: NA1_5209163230, Response Code: 200\n",
      "Match ID: NA1_5209142980, Response Code: 200\n",
      "Match ID: NA1_5209102795, Response Code: 200\n",
      "Match ID: NA1_5209078008, Response Code: 200\n",
      "Match ID: NA1_5208860116, Response Code: 200\n",
      "Match ID: NA1_5208839293, Response Code: 200\n",
      "Match ID: NA1_5208823807, Response Code: 200\n",
      "Match ID: NA1_5208794532, Response Code: 200\n",
      "Match ID: NA1_5208516538, Response Code: 200\n",
      "Match ID: NA1_5208488066, Response Code: 200\n",
      "Match ID: NA1_5208452586, Response Code: 200\n",
      "Match ID: NA1_5208424497, Response Code: 200\n",
      "Match ID: NA1_5208389582, Response Code: 200\n",
      "Match ID: NA1_5208050014, Response Code: 200\n",
      "Match ID: NA1_5208037740, Response Code: 200\n",
      "Match ID: NA1_5207717274, Response Code: 200\n",
      "Match ID: NA1_5207059029, Response Code: 200\n",
      "Match ID: NA1_5206727100, Response Code: 200\n",
      "Match ID: NA1_5206687138, Response Code: 200\n",
      "Match ID: NA1_5206609773, Response Code: 200\n",
      "Match ID: NA1_5206372669, Response Code: 200\n",
      "Match ID: NA1_5206045077, Response Code: 200\n",
      "Match ID: NA1_5206026256, Response Code: 200\n",
      "Match ID: NA1_5205916551, Response Code: 200\n",
      "Match ID: NA1_5205910168, Response Code: 200\n",
      "Match ID: NA1_5205695772, Response Code: 200\n",
      "Match ID: NA1_5205672254, Response Code: 200\n",
      "Match ID: NA1_5205639163, Response Code: 200\n",
      "Match ID: NA1_5205602193, Response Code: 200\n",
      "Match ID: NA1_5205567551, Response Code: 200\n"
     ]
    }
   ],
   "source": [
    "# Goal: gather and process 20 games from a player of choice \n",
    "\n",
    "# player: Krelekrele\n",
    "# tag: #NA1\n",
    "# Oldest Match too Look for: NA1_5221759288\n",
    "\n",
    "#get_puuid(PlayerName='Krelekrele',PlayerTag='NA1')\n",
    "\n",
    "# puuid: Kc4mIgXETqVivYSnMhx1iLh2sN5sz_plAf_fYBkVhU9mIZaaGNFx26DDpsCu5j40amKrGmQltmJ-gQ\n",
    "\n",
    "puuid_test = 'Kc4mIgXETqVivYSnMhx1iLh2sN5sz_plAf_fYBkVhU9mIZaaGNFx26DDpsCu5j40amKrGmQltmJ-gQ'\n",
    "\n",
    "# for debugging\n",
    "def debug_print(message, debug=True):\n",
    "    \"\"\"Prints message only if debug mode is enabled.\"\"\"\n",
    "    if debug:\n",
    "        print(message)\n",
    "\n",
    "# finding estimate for how far back to start search\n",
    "\n",
    "def find_patch(puuid, start, min_oldest_id, debug = False):\n",
    "\n",
    "    \"\"\"\" \n",
    "    Can just copy and past the string into the function for the oldest match id \n",
    "    puuid is just the players puuid you want\n",
    "    start will calculate where you need to start\n",
    "    \n",
    "    \"\"\"\n",
    "    \n",
    "    numeric_id_list = []\n",
    "\n",
    "    min_oldest_id = int(min_oldest_id.replace('NA1_', ''))\n",
    "\n",
    "    # Fetch match history initially\n",
    "    match_ids = get_match_hist(puuid=puuid, start=start, count=100)\n",
    "\n",
    "    flag = False\n",
    "\n",
    "    while flag == False:\n",
    "        # Process each match ID\n",
    "        for id in match_ids:\n",
    "            # Strip the \"NA1_\" part and convert to an integer\n",
    "            numeric_id = int(id.replace('NA1_', ''))\n",
    "            numeric_id_list.append(numeric_id)\n",
    "\n",
    "        # Check if any of the numeric IDs are greater than the min_oldest_id value\n",
    "        for num_id in numeric_id_list:\n",
    "            if num_id > min_oldest_id:\n",
    "                debug_print(f'NA1_{num_id} is not old enough trying next....', debug)\n",
    "                start = start + 1\n",
    "            else:\n",
    "                debug_print(f'NA1_{num_id} is older than minimum, Starting ID found', debug)\n",
    "                flag = True\n",
    "                break\n",
    "\n",
    "        if flag == False:\n",
    "            # Increase the 'start' variable by 50 and get new match history\n",
    "            numeric_id_list = []  # Reset the numeric ID list for the next batch\n",
    "            match_ids = get_match_hist(puuid=puuid, start=start)  # Re-fetch match history with updated 'start'\n",
    "            debug_print('Generating New Match History....', debug)\n",
    "        else:\n",
    "            debug_print(f'Starting point is: {start}', debug)\n",
    "            break\n",
    "\n",
    "    debug_print('Finished Search', debug)\n",
    "    return start\n",
    "\n",
    "\n",
    "# getting player data\n",
    "puuid = get_puuid(PlayerName='Krelekrele', PlayerTag='NA1')[0]\n",
    "\n",
    "matchIds = get_match_hist(puuid=puuid, start=135, count=30)\n",
    "\n",
    "dataframes = []\n",
    "\n",
    "for id in matchIds:\n",
    "    game = get_match_data_from_id(id)[0]\n",
    "    matchDF = process_match_json(game, puuid=puuid)\n",
    "\n",
    "    # Ensure matchId and puuid exist before creating uuid\n",
    "    if 'matchId' in matchDF.columns and 'puuid' in matchDF.columns:\n",
    "        matchDF = convert_df_ids(matchDF)\n",
    "        matchDF['uuid'] = matchDF['matchId'] + '_' + matchDF['puuid']\n",
    "        matchDF = matchDF.set_index('uuid')  # Assign back to matchDF\n",
    "    \n",
    "    dataframes.append(matchDF)\n",
    "\n",
    "# Concatenate all match DataFrames **after** looping\n",
    "df = pd.concat(dataframes) if dataframes else pd.DataFrame()\n"
   ]
  },
  {
   "cell_type": "markdown",
   "metadata": {},
   "source": [
    "### Preprocessing Player Games"
   ]
  },
  {
   "cell_type": "code",
   "execution_count": 191,
   "metadata": {},
   "outputs": [
    {
     "data": {
      "text/plain": [
       "Prediction  Actual\n",
       "True        1         16\n",
       "False       0         14\n",
       "Name: count, dtype: int64"
      ]
     },
     "execution_count": 191,
     "metadata": {},
     "output_type": "execute_result"
    }
   ],
   "source": [
    "import pickle\n",
    "from sklearn.compose import ColumnTransformer\n",
    "from sklearn.preprocessing import StandardScaler, OneHotEncoder\n",
    "import pandas as pd\n",
    "\n",
    "# Step 1: Load your pre-trained model\n",
    "model, _, _, = load_model()\n",
    "\n",
    "# Step 3: Preprocess the DataFrame (apply transformations)\n",
    "df_pre = df.copy()\n",
    "df_pre.reset_index(inplace=True)\n",
    "\n",
    "# Remove nulls (if any)\n",
    "df_pre = remove_null(df_pre)\n",
    "\n",
    "\n",
    "\n",
    "for col in cat_cols:\n",
    "    df_pre[col] = df_pre[col] = df_pre[col].astype(str)\n",
    "\n",
    "\n",
    "bool_cols = df_pre.select_dtypes(include='bool').columns\n",
    "\n",
    "for col in bool_cols:\n",
    "    df_pre[col] = df_pre[col].astype(int)\n",
    "\n",
    "# Step 2: Define your preprocessor (same as used during training)\n",
    "num_cols = df_pre.select_dtypes(include='number').columns\n",
    "cat_cols = df_pre.select_dtypes(include='object').columns\n",
    "\n",
    "gb_preprocessor = ColumnTransformer(\n",
    "    transformers=[\n",
    "        ('num', StandardScaler(), num_cols),\n",
    "        ('cat', OneHotEncoder(handle_unknown='ignore'), cat_cols)\n",
    "    ]\n",
    ")\n",
    "\n",
    "X = df_pre.drop('win',axis=1)\n",
    "y = df_pre['win']\n",
    "\n",
    "\n",
    "# Step 4: Make predictions using the model\n",
    "predictions = model.predict(X)\n",
    "\n",
    "# Step 5: Display predictions (for example, the first 5 predictions)\n",
    "\n",
    "predict_df = pd.DataFrame({\n",
    "\n",
    "    'Prediction' : predictions,\n",
    "    'Actual' : df_pre['win']\n",
    "\n",
    "})\n",
    "\n",
    "predict_df\n",
    "\n",
    "# 100% accuracy yay \n",
    "\n",
    "predict_df.value_counts()\n",
    "\n",
    "# Total wins 16\n",
    "# Total loss 14"
   ]
  },
  {
   "cell_type": "markdown",
   "metadata": {},
   "source": [
    "### Analyzing Player Games with ML Model Important Factors"
   ]
  },
  {
   "cell_type": "code",
   "execution_count": 141,
   "metadata": {},
   "outputs": [
    {
     "name": "stdout",
     "output_type": "stream",
     "text": [
      "     damageDealtToTurrets  turretsLost  longestTimeSpentLiving  teamKills  \\\n",
      "win                                                                         \n",
      "0             2313.357143     8.857143              840.428571  23.214286   \n",
      "1             3044.375000     2.625000              488.125000  32.250000   \n",
      "\n",
      "     inhibitorsLost  inhibitorTakedowns  \n",
      "win                                      \n",
      "0          1.714286              0.0000  \n",
      "1          0.062500              0.4375  \n"
     ]
    },
    {
     "data": {
      "image/png": "[encoded data removed]",
      "text/plain": [
       "<Figure size 1000x600 with 1 Axes>"
      ]
     },
     "metadata": {},
     "output_type": "display_data"
    }
   ],
   "source": [
    "damage2Turrets = df_pre.groupby('win')['damageDealtToTurrets'].mean()\n",
    "towersLost = df_pre.groupby('win')['turretsLost'].mean()\n",
    "longestTimeAlive = df_pre.groupby('win')['longestTimeSpentLiving'].mean()\n",
    "teamKills = df_pre.groupby('win')['teamKills'].mean()\n",
    "inhibitorsLost = df_pre.groupby('win')['inhibitorsLost'].mean()\n",
    "inhibitorTakedowns = df_pre.groupby('win')['inhibitorTakedowns'].mean()\n",
    "\n",
    "# Combine all these series into a single DataFrame\n",
    "comparison_df_whole = pd.DataFrame({\n",
    "    'damageDealtToTurrets': damage2Turrets,\n",
    "    'turretsLost': towersLost,\n",
    "    'longestTimeSpentLiving': longestTimeAlive,\n",
    "    'teamKills': teamKills,\n",
    "    'inhibitorsLost': inhibitorsLost,\n",
    "    'inhibitorTakedowns': inhibitorTakedowns\n",
    "})\n",
    "\n",
    "print(comparison_df_whole)\n",
    "\n",
    "# Create a new DataFrame for easy plotting\n",
    "comparison_df = pd.DataFrame({\n",
    "    'Damage Dealt to Turrets': damage2Turrets,\n",
    "    'Longest Time Spent Living(s)': longestTimeAlive\n",
    "})\n",
    "\n",
    "# Reset index to make 'win' a column for plotting purposes\n",
    "comparison_df.reset_index(inplace=True)\n",
    "\n",
    "# Set the figure size\n",
    "plt.figure(figsize=(10, 6))\n",
    "\n",
    "# Melt the DataFrame to long format for seaborn\n",
    "comparison_df_melted = comparison_df.melt(id_vars='win', var_name='Metric', value_name='Mean Value')\n",
    "\n",
    "# Create a custom color palette: win = green, loss = red\n",
    "custom_palette = {True: 'green', False: 'red'}\n",
    "\n",
    "# Create a seaborn barplot with custom colors\n",
    "sns.barplot(x='Metric', y='Mean Value', hue='win', data=comparison_df_melted, palette=custom_palette)\n",
    "\n",
    "# Set plot title and labels\n",
    "plt.title('Comparison of Damage Dealt to Turrets and Longest Time Spent Living for Wins vs Losses')\n",
    "plt.xlabel('Metric')\n",
    "plt.ylabel('Mean Value')\n",
    "plt.xticks(ticks=[0, 1], labels=['Damage Dealt to Turrets', 'Longest Time Spent Living(s)'], rotation=45)\n",
    "\n",
    "# Show the plot\n",
    "plt.tight_layout()\n",
    "plt.show()\n",
    "\n"
   ]
  },
  {
   "cell_type": "code",
   "execution_count": 140,
   "metadata": {},
   "outputs": [
    {
     "name": "stderr",
     "output_type": "stream",
     "text": [
      "C:\\Users\\Kadin\\AppData\\Local\\Temp\\ipykernel_29844\\2814080673.py:22: FutureWarning: \n",
      "\n",
      "The `ci` parameter is deprecated. Use `errorbar='sd'` for the same effect.\n",
      "\n",
      "  sns.barplot(x='Metric', y='Value', hue='win', data=remaining_categories_melted, palette=custom_palette, ci=\"sd\")\n"
     ]
    },
    {
     "data": {
      "image/png": "[encoded data removed]",
      "text/plain": [
       "<Figure size 1500x800 with 1 Axes>"
      ]
     },
     "metadata": {},
     "output_type": "display_data"
    }
   ],
   "source": [
    "# Create a new DataFrame for the remaining categories\n",
    "remaining_categories_df = pd.DataFrame({\n",
    "    'Turrets Lost': towersLost,\n",
    "    'Team Kills': teamKills,\n",
    "    'Inhibitors Lost': inhibitorsLost,\n",
    "    'Inhibitor Takedowns': inhibitorTakedowns\n",
    "})\n",
    "\n",
    "# Reset index to make 'win' a column for plotting purposes\n",
    "remaining_categories_df.reset_index(inplace=True)\n",
    "\n",
    "# Set the figure size for the box plots\n",
    "plt.figure(figsize=(15, 8))\n",
    "\n",
    "# Melt the DataFrame to long format for seaborn\n",
    "remaining_categories_melted = remaining_categories_df.melt(id_vars='win', var_name='Metric', value_name='Value')\n",
    "\n",
    "# Create a custom color palette: win = green, loss = red\n",
    "custom_palette = {True: 'green', False: 'red'}\n",
    "\n",
    "# Create the boxplots for the categories\n",
    "sns.barplot(x='Metric', y='Value', hue='win', data=remaining_categories_melted, palette=custom_palette, ci=\"sd\")\n",
    "\n",
    "\n",
    "\n",
    "# Set plot title and labels\n",
    "plt.title('Boxplots of Remaining Categories for Wins vs Losses')\n",
    "plt.xlabel('Metric')\n",
    "plt.ylabel('Value')\n",
    "\n",
    "# Show the plot\n",
    "plt.tight_layout()\n",
    "plt.show()"
   ]
  },
  {
   "cell_type": "markdown",
   "metadata": {},
   "source": [
    "### ML Improvement Plan"
   ]
  },
  {
   "cell_type": "code",
   "execution_count": 212,
   "metadata": {},
   "outputs": [
    {
     "name": "stdout",
     "output_type": "stream",
     "text": [
      "Original Win Rate: 53.33%\n",
      "Adjusted Win Rate (with -1 turrets lost per game): 56.67%\n"
     ]
    }
   ],
   "source": [
    "df_post = df_pre.copy()\n",
    "\n",
    "extra_num = 1\n",
    "\n",
    "# 300 extra damage to turrets\n",
    "df_post['turretsLost'] = df_post['turretsLost'] - extra_num\n",
    "\n",
    "X = df_post.drop('win',axis=1)\n",
    "y = df_post['win']\n",
    "\n",
    "original_win_rate = y.mean()\n",
    "\n",
    "# get predictions\n",
    "prediction = model.predict(X)\n",
    "\n",
    "adjusted_val_df = pd.DataFrame({\n",
    "\n",
    "    'prediction' : prediction,\n",
    "    'Original' : y\n",
    "\n",
    "})\n",
    "\n",
    "adjusted_win_rate = prediction.mean()\n",
    "\n",
    "# Winrate Change\n",
    "print(f\"Original Win Rate: {original_win_rate * 100:.2f}%\")\n",
    "print(f\"Adjusted Win Rate (with -{extra_num} turrets lost per game): {adjusted_win_rate * 100:.2f}%\")"
   ]
  }
 ],
 "metadata": {
  "kernelspec": {
   "display_name": "venv",
   "language": "python",
   "name": "python3"
  },
  "language_info": {
   "codemirror_mode": {
    "name": "ipython",
    "version": 3
   },
   "file_extension": ".py",
   "mimetype": "text/x-python",
   "name": "python",
   "nbconvert_exporter": "python",
   "pygments_lexer": "ipython3",
   "version": "3.13.1"
  }
 },
 "nbformat": 4,
 "nbformat_minor": 2
}
